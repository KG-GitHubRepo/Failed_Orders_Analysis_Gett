{
 "cells": [
  {
   "cell_type": "markdown",
   "metadata": {},
   "source": [
    "# Importing Libraries"
   ]
  },
  {
   "cell_type": "code",
   "execution_count": 1,
   "metadata": {},
   "outputs": [],
   "source": [
    "import numpy as np\n",
    "import pandas as pd\n",
    "import matplotlib.pyplot as plt\n",
    "import seaborn as sns\n",
    "from datetime import datetime"
   ]
  },
  {
   "cell_type": "markdown",
   "metadata": {},
   "source": [
    "# Importing the dataset"
   ]
  },
  {
   "cell_type": "code",
   "execution_count": 2,
   "metadata": {},
   "outputs": [],
   "source": [
    "df_orders = pd.read_csv(\"data_orders.csv\")"
   ]
  },
  {
   "cell_type": "code",
   "execution_count": 3,
   "metadata": {},
   "outputs": [
    {
     "data": {
      "text/html": [
       "<div>\n",
       "<style scoped>\n",
       "    .dataframe tbody tr th:only-of-type {\n",
       "        vertical-align: middle;\n",
       "    }\n",
       "\n",
       "    .dataframe tbody tr th {\n",
       "        vertical-align: top;\n",
       "    }\n",
       "\n",
       "    .dataframe thead th {\n",
       "        text-align: right;\n",
       "    }\n",
       "</style>\n",
       "<table border=\"1\" class=\"dataframe\">\n",
       "  <thead>\n",
       "    <tr style=\"text-align: right;\">\n",
       "      <th></th>\n",
       "      <th>order_datetime</th>\n",
       "      <th>origin_longitude</th>\n",
       "      <th>origin_latitude</th>\n",
       "      <th>m_order_eta</th>\n",
       "      <th>order_gk</th>\n",
       "      <th>order_status_key</th>\n",
       "      <th>is_driver_assigned_key</th>\n",
       "      <th>cancellations_time_in_seconds</th>\n",
       "    </tr>\n",
       "  </thead>\n",
       "  <tbody>\n",
       "    <tr>\n",
       "      <th>0</th>\n",
       "      <td>18:08:07</td>\n",
       "      <td>-0.978916</td>\n",
       "      <td>51.456173</td>\n",
       "      <td>60.0</td>\n",
       "      <td>3000583041974</td>\n",
       "      <td>4</td>\n",
       "      <td>1</td>\n",
       "      <td>198.0</td>\n",
       "    </tr>\n",
       "    <tr>\n",
       "      <th>1</th>\n",
       "      <td>20:57:32</td>\n",
       "      <td>-0.950385</td>\n",
       "      <td>51.456843</td>\n",
       "      <td>NaN</td>\n",
       "      <td>3000583116437</td>\n",
       "      <td>4</td>\n",
       "      <td>0</td>\n",
       "      <td>128.0</td>\n",
       "    </tr>\n",
       "    <tr>\n",
       "      <th>2</th>\n",
       "      <td>12:07:50</td>\n",
       "      <td>-0.969520</td>\n",
       "      <td>51.455544</td>\n",
       "      <td>477.0</td>\n",
       "      <td>3000582891479</td>\n",
       "      <td>4</td>\n",
       "      <td>1</td>\n",
       "      <td>46.0</td>\n",
       "    </tr>\n",
       "    <tr>\n",
       "      <th>3</th>\n",
       "      <td>13:50:20</td>\n",
       "      <td>-1.054671</td>\n",
       "      <td>51.460544</td>\n",
       "      <td>658.0</td>\n",
       "      <td>3000582941169</td>\n",
       "      <td>4</td>\n",
       "      <td>1</td>\n",
       "      <td>62.0</td>\n",
       "    </tr>\n",
       "    <tr>\n",
       "      <th>4</th>\n",
       "      <td>21:24:45</td>\n",
       "      <td>-0.967605</td>\n",
       "      <td>51.458236</td>\n",
       "      <td>NaN</td>\n",
       "      <td>3000583140877</td>\n",
       "      <td>9</td>\n",
       "      <td>0</td>\n",
       "      <td>NaN</td>\n",
       "    </tr>\n",
       "    <tr>\n",
       "      <th>...</th>\n",
       "      <td>...</td>\n",
       "      <td>...</td>\n",
       "      <td>...</td>\n",
       "      <td>...</td>\n",
       "      <td>...</td>\n",
       "      <td>...</td>\n",
       "      <td>...</td>\n",
       "      <td>...</td>\n",
       "    </tr>\n",
       "    <tr>\n",
       "      <th>10711</th>\n",
       "      <td>13:11:35</td>\n",
       "      <td>-0.975372</td>\n",
       "      <td>51.457846</td>\n",
       "      <td>NaN</td>\n",
       "      <td>3000599186906</td>\n",
       "      <td>4</td>\n",
       "      <td>0</td>\n",
       "      <td>36.0</td>\n",
       "    </tr>\n",
       "    <tr>\n",
       "      <th>10712</th>\n",
       "      <td>13:13:55</td>\n",
       "      <td>-0.975372</td>\n",
       "      <td>51.457846</td>\n",
       "      <td>NaN</td>\n",
       "      <td>3000599186962</td>\n",
       "      <td>4</td>\n",
       "      <td>0</td>\n",
       "      <td>4.0</td>\n",
       "    </tr>\n",
       "    <tr>\n",
       "      <th>10713</th>\n",
       "      <td>13:17:21</td>\n",
       "      <td>-0.972926</td>\n",
       "      <td>51.457693</td>\n",
       "      <td>60.0</td>\n",
       "      <td>3000599187034</td>\n",
       "      <td>4</td>\n",
       "      <td>1</td>\n",
       "      <td>34.0</td>\n",
       "    </tr>\n",
       "    <tr>\n",
       "      <th>10714</th>\n",
       "      <td>13:16:28</td>\n",
       "      <td>-0.975372</td>\n",
       "      <td>51.457846</td>\n",
       "      <td>NaN</td>\n",
       "      <td>3000599187024</td>\n",
       "      <td>4</td>\n",
       "      <td>0</td>\n",
       "      <td>6.0</td>\n",
       "    </tr>\n",
       "    <tr>\n",
       "      <th>10715</th>\n",
       "      <td>11:49:35</td>\n",
       "      <td>-0.974738</td>\n",
       "      <td>51.458180</td>\n",
       "      <td>177.0</td>\n",
       "      <td>3000592871241</td>\n",
       "      <td>4</td>\n",
       "      <td>1</td>\n",
       "      <td>40.0</td>\n",
       "    </tr>\n",
       "  </tbody>\n",
       "</table>\n",
       "<p>10716 rows × 8 columns</p>\n",
       "</div>"
      ],
      "text/plain": [
       "      order_datetime  origin_longitude  origin_latitude  m_order_eta  \\\n",
       "0           18:08:07         -0.978916        51.456173         60.0   \n",
       "1           20:57:32         -0.950385        51.456843          NaN   \n",
       "2           12:07:50         -0.969520        51.455544        477.0   \n",
       "3           13:50:20         -1.054671        51.460544        658.0   \n",
       "4           21:24:45         -0.967605        51.458236          NaN   \n",
       "...              ...               ...              ...          ...   \n",
       "10711       13:11:35         -0.975372        51.457846          NaN   \n",
       "10712       13:13:55         -0.975372        51.457846          NaN   \n",
       "10713       13:17:21         -0.972926        51.457693         60.0   \n",
       "10714       13:16:28         -0.975372        51.457846          NaN   \n",
       "10715       11:49:35         -0.974738        51.458180        177.0   \n",
       "\n",
       "            order_gk  order_status_key  is_driver_assigned_key  \\\n",
       "0      3000583041974                 4                       1   \n",
       "1      3000583116437                 4                       0   \n",
       "2      3000582891479                 4                       1   \n",
       "3      3000582941169                 4                       1   \n",
       "4      3000583140877                 9                       0   \n",
       "...              ...               ...                     ...   \n",
       "10711  3000599186906                 4                       0   \n",
       "10712  3000599186962                 4                       0   \n",
       "10713  3000599187034                 4                       1   \n",
       "10714  3000599187024                 4                       0   \n",
       "10715  3000592871241                 4                       1   \n",
       "\n",
       "       cancellations_time_in_seconds  \n",
       "0                              198.0  \n",
       "1                              128.0  \n",
       "2                               46.0  \n",
       "3                               62.0  \n",
       "4                                NaN  \n",
       "...                              ...  \n",
       "10711                           36.0  \n",
       "10712                            4.0  \n",
       "10713                           34.0  \n",
       "10714                            6.0  \n",
       "10715                           40.0  \n",
       "\n",
       "[10716 rows x 8 columns]"
      ]
     },
     "execution_count": 3,
     "metadata": {},
     "output_type": "execute_result"
    }
   ],
   "source": [
    "df_orders"
   ]
  },
  {
   "cell_type": "code",
   "execution_count": 4,
   "metadata": {},
   "outputs": [
    {
     "name": "stdout",
     "output_type": "stream",
     "text": [
      "<class 'pandas.core.frame.DataFrame'>\n",
      "RangeIndex: 10716 entries, 0 to 10715\n",
      "Data columns (total 8 columns):\n",
      " #   Column                         Non-Null Count  Dtype  \n",
      "---  ------                         --------------  -----  \n",
      " 0   order_datetime                 10716 non-null  object \n",
      " 1   origin_longitude               10716 non-null  float64\n",
      " 2   origin_latitude                10716 non-null  float64\n",
      " 3   m_order_eta                    2814 non-null   float64\n",
      " 4   order_gk                       10716 non-null  int64  \n",
      " 5   order_status_key               10716 non-null  int64  \n",
      " 6   is_driver_assigned_key         10716 non-null  int64  \n",
      " 7   cancellations_time_in_seconds  7307 non-null   float64\n",
      "dtypes: float64(4), int64(3), object(1)\n",
      "memory usage: 669.9+ KB\n"
     ]
    }
   ],
   "source": [
    "df_orders.info()"
   ]
  },
  {
   "cell_type": "code",
   "execution_count": 5,
   "metadata": {},
   "outputs": [
    {
     "data": {
      "text/plain": [
       "(10716, 8)"
      ]
     },
     "execution_count": 5,
     "metadata": {},
     "output_type": "execute_result"
    }
   ],
   "source": [
    "df_orders.shape"
   ]
  },
  {
   "cell_type": "code",
   "execution_count": 6,
   "metadata": {},
   "outputs": [
    {
     "data": {
      "text/plain": [
       "85728"
      ]
     },
     "execution_count": 6,
     "metadata": {},
     "output_type": "execute_result"
    }
   ],
   "source": [
    "df_orders.size"
   ]
  },
  {
   "cell_type": "code",
   "execution_count": 7,
   "metadata": {
    "scrolled": true
   },
   "outputs": [
    {
     "data": {
      "text/html": [
       "<div>\n",
       "<style scoped>\n",
       "    .dataframe tbody tr th:only-of-type {\n",
       "        vertical-align: middle;\n",
       "    }\n",
       "\n",
       "    .dataframe tbody tr th {\n",
       "        vertical-align: top;\n",
       "    }\n",
       "\n",
       "    .dataframe thead th {\n",
       "        text-align: right;\n",
       "    }\n",
       "</style>\n",
       "<table border=\"1\" class=\"dataframe\">\n",
       "  <thead>\n",
       "    <tr style=\"text-align: right;\">\n",
       "      <th></th>\n",
       "      <th>origin_longitude</th>\n",
       "      <th>origin_latitude</th>\n",
       "      <th>m_order_eta</th>\n",
       "      <th>order_gk</th>\n",
       "      <th>order_status_key</th>\n",
       "      <th>is_driver_assigned_key</th>\n",
       "      <th>cancellations_time_in_seconds</th>\n",
       "    </tr>\n",
       "  </thead>\n",
       "  <tbody>\n",
       "    <tr>\n",
       "      <th>count</th>\n",
       "      <td>10716.000000</td>\n",
       "      <td>10716.000000</td>\n",
       "      <td>2814.000000</td>\n",
       "      <td>1.071600e+04</td>\n",
       "      <td>10716.000000</td>\n",
       "      <td>10716.000000</td>\n",
       "      <td>7307.000000</td>\n",
       "    </tr>\n",
       "    <tr>\n",
       "      <th>mean</th>\n",
       "      <td>-0.964323</td>\n",
       "      <td>51.450541</td>\n",
       "      <td>441.415423</td>\n",
       "      <td>3.000598e+12</td>\n",
       "      <td>5.590612</td>\n",
       "      <td>0.262598</td>\n",
       "      <td>157.892021</td>\n",
       "    </tr>\n",
       "    <tr>\n",
       "      <th>std</th>\n",
       "      <td>0.022818</td>\n",
       "      <td>0.011984</td>\n",
       "      <td>288.006379</td>\n",
       "      <td>2.396261e+07</td>\n",
       "      <td>2.328845</td>\n",
       "      <td>0.440066</td>\n",
       "      <td>213.366963</td>\n",
       "    </tr>\n",
       "    <tr>\n",
       "      <th>min</th>\n",
       "      <td>-1.066957</td>\n",
       "      <td>51.399323</td>\n",
       "      <td>60.000000</td>\n",
       "      <td>3.000550e+12</td>\n",
       "      <td>4.000000</td>\n",
       "      <td>0.000000</td>\n",
       "      <td>3.000000</td>\n",
       "    </tr>\n",
       "    <tr>\n",
       "      <th>25%</th>\n",
       "      <td>-0.974363</td>\n",
       "      <td>51.444643</td>\n",
       "      <td>233.000000</td>\n",
       "      <td>3.000583e+12</td>\n",
       "      <td>4.000000</td>\n",
       "      <td>0.000000</td>\n",
       "      <td>45.000000</td>\n",
       "    </tr>\n",
       "    <tr>\n",
       "      <th>50%</th>\n",
       "      <td>-0.966386</td>\n",
       "      <td>51.451972</td>\n",
       "      <td>368.500000</td>\n",
       "      <td>3.000595e+12</td>\n",
       "      <td>4.000000</td>\n",
       "      <td>0.000000</td>\n",
       "      <td>98.000000</td>\n",
       "    </tr>\n",
       "    <tr>\n",
       "      <th>75%</th>\n",
       "      <td>-0.949605</td>\n",
       "      <td>51.456725</td>\n",
       "      <td>653.000000</td>\n",
       "      <td>3.000623e+12</td>\n",
       "      <td>9.000000</td>\n",
       "      <td>1.000000</td>\n",
       "      <td>187.500000</td>\n",
       "    </tr>\n",
       "    <tr>\n",
       "      <th>max</th>\n",
       "      <td>-0.867088</td>\n",
       "      <td>51.496169</td>\n",
       "      <td>1559.000000</td>\n",
       "      <td>3.000633e+12</td>\n",
       "      <td>9.000000</td>\n",
       "      <td>1.000000</td>\n",
       "      <td>4303.000000</td>\n",
       "    </tr>\n",
       "  </tbody>\n",
       "</table>\n",
       "</div>"
      ],
      "text/plain": [
       "       origin_longitude  origin_latitude  m_order_eta      order_gk  \\\n",
       "count      10716.000000     10716.000000  2814.000000  1.071600e+04   \n",
       "mean          -0.964323        51.450541   441.415423  3.000598e+12   \n",
       "std            0.022818         0.011984   288.006379  2.396261e+07   \n",
       "min           -1.066957        51.399323    60.000000  3.000550e+12   \n",
       "25%           -0.974363        51.444643   233.000000  3.000583e+12   \n",
       "50%           -0.966386        51.451972   368.500000  3.000595e+12   \n",
       "75%           -0.949605        51.456725   653.000000  3.000623e+12   \n",
       "max           -0.867088        51.496169  1559.000000  3.000633e+12   \n",
       "\n",
       "       order_status_key  is_driver_assigned_key  cancellations_time_in_seconds  \n",
       "count      10716.000000            10716.000000                    7307.000000  \n",
       "mean           5.590612                0.262598                     157.892021  \n",
       "std            2.328845                0.440066                     213.366963  \n",
       "min            4.000000                0.000000                       3.000000  \n",
       "25%            4.000000                0.000000                      45.000000  \n",
       "50%            4.000000                0.000000                      98.000000  \n",
       "75%            9.000000                1.000000                     187.500000  \n",
       "max            9.000000                1.000000                    4303.000000  "
      ]
     },
     "execution_count": 7,
     "metadata": {},
     "output_type": "execute_result"
    }
   ],
   "source": [
    "df_orders.describe()"
   ]
  },
  {
   "cell_type": "code",
   "execution_count": 8,
   "metadata": {},
   "outputs": [],
   "source": [
    "#converting column to datetime datatype\n",
    "df_orders['order_datetime'] = pd.to_datetime(df_orders['order_datetime'])"
   ]
  },
  {
   "cell_type": "code",
   "execution_count": 9,
   "metadata": {
    "scrolled": true
   },
   "outputs": [
    {
     "name": "stdout",
     "output_type": "stream",
     "text": [
      "<class 'pandas.core.frame.DataFrame'>\n",
      "RangeIndex: 10716 entries, 0 to 10715\n",
      "Data columns (total 8 columns):\n",
      " #   Column                         Non-Null Count  Dtype         \n",
      "---  ------                         --------------  -----         \n",
      " 0   order_datetime                 10716 non-null  datetime64[ns]\n",
      " 1   origin_longitude               10716 non-null  float64       \n",
      " 2   origin_latitude                10716 non-null  float64       \n",
      " 3   m_order_eta                    2814 non-null   float64       \n",
      " 4   order_gk                       10716 non-null  int64         \n",
      " 5   order_status_key               10716 non-null  int64         \n",
      " 6   is_driver_assigned_key         10716 non-null  int64         \n",
      " 7   cancellations_time_in_seconds  7307 non-null   float64       \n",
      "dtypes: datetime64[ns](1), float64(4), int64(3)\n",
      "memory usage: 669.9 KB\n"
     ]
    }
   ],
   "source": [
    "df_orders.info()"
   ]
  },
  {
   "cell_type": "code",
   "execution_count": 10,
   "metadata": {},
   "outputs": [
    {
     "data": {
      "text/plain": [
       "order_datetime                    0.000000\n",
       "origin_longitude                  0.000000\n",
       "origin_latitude                   0.000000\n",
       "m_order_eta                      73.740202\n",
       "order_gk                          0.000000\n",
       "order_status_key                  0.000000\n",
       "is_driver_assigned_key            0.000000\n",
       "cancellations_time_in_seconds    31.812243\n",
       "dtype: float64"
      ]
     },
     "execution_count": 10,
     "metadata": {},
     "output_type": "execute_result"
    }
   ],
   "source": [
    "#null value percentage\n",
    "(df_orders.isnull().sum()/df_orders.shape[0])*100"
   ]
  },
  {
   "cell_type": "markdown",
   "metadata": {},
   "source": [
    "**Here, Based on these percentages, it appears that 'm_order_eta' and 'cancellations_time_in_seconds' have a considerable number of missing values. This insight can guide further data cleaning processes to handle these null values appropriately.**"
   ]
  },
  {
   "cell_type": "markdown",
   "metadata": {},
   "source": [
    "# Importing another dataset"
   ]
  },
  {
   "cell_type": "code",
   "execution_count": 11,
   "metadata": {},
   "outputs": [],
   "source": [
    "df_offers = pd.read_csv(\"data_offers.csv\")"
   ]
  },
  {
   "cell_type": "code",
   "execution_count": 12,
   "metadata": {},
   "outputs": [
    {
     "data": {
      "text/html": [
       "<div>\n",
       "<style scoped>\n",
       "    .dataframe tbody tr th:only-of-type {\n",
       "        vertical-align: middle;\n",
       "    }\n",
       "\n",
       "    .dataframe tbody tr th {\n",
       "        vertical-align: top;\n",
       "    }\n",
       "\n",
       "    .dataframe thead th {\n",
       "        text-align: right;\n",
       "    }\n",
       "</style>\n",
       "<table border=\"1\" class=\"dataframe\">\n",
       "  <thead>\n",
       "    <tr style=\"text-align: right;\">\n",
       "      <th></th>\n",
       "      <th>order_gk</th>\n",
       "      <th>offer_id</th>\n",
       "    </tr>\n",
       "  </thead>\n",
       "  <tbody>\n",
       "    <tr>\n",
       "      <th>0</th>\n",
       "      <td>3000579625629</td>\n",
       "      <td>300050936206</td>\n",
       "    </tr>\n",
       "    <tr>\n",
       "      <th>1</th>\n",
       "      <td>3000627306450</td>\n",
       "      <td>300052064651</td>\n",
       "    </tr>\n",
       "    <tr>\n",
       "      <th>2</th>\n",
       "      <td>3000632920686</td>\n",
       "      <td>300052408812</td>\n",
       "    </tr>\n",
       "    <tr>\n",
       "      <th>3</th>\n",
       "      <td>3000632771725</td>\n",
       "      <td>300052393030</td>\n",
       "    </tr>\n",
       "    <tr>\n",
       "      <th>4</th>\n",
       "      <td>3000583467642</td>\n",
       "      <td>300051001196</td>\n",
       "    </tr>\n",
       "    <tr>\n",
       "      <th>...</th>\n",
       "      <td>...</td>\n",
       "      <td>...</td>\n",
       "    </tr>\n",
       "    <tr>\n",
       "      <th>334358</th>\n",
       "      <td>3000552921666</td>\n",
       "      <td>300050611632</td>\n",
       "    </tr>\n",
       "    <tr>\n",
       "      <th>334359</th>\n",
       "      <td>3000593796526</td>\n",
       "      <td>300051443024</td>\n",
       "    </tr>\n",
       "    <tr>\n",
       "      <th>334360</th>\n",
       "      <td>3000590955748</td>\n",
       "      <td>300051340498</td>\n",
       "    </tr>\n",
       "    <tr>\n",
       "      <th>334361</th>\n",
       "      <td>3000557510943</td>\n",
       "      <td>300050772593</td>\n",
       "    </tr>\n",
       "    <tr>\n",
       "      <th>334362</th>\n",
       "      <td>3000630405861</td>\n",
       "      <td>300052291934</td>\n",
       "    </tr>\n",
       "  </tbody>\n",
       "</table>\n",
       "<p>334363 rows × 2 columns</p>\n",
       "</div>"
      ],
      "text/plain": [
       "             order_gk      offer_id\n",
       "0       3000579625629  300050936206\n",
       "1       3000627306450  300052064651\n",
       "2       3000632920686  300052408812\n",
       "3       3000632771725  300052393030\n",
       "4       3000583467642  300051001196\n",
       "...               ...           ...\n",
       "334358  3000552921666  300050611632\n",
       "334359  3000593796526  300051443024\n",
       "334360  3000590955748  300051340498\n",
       "334361  3000557510943  300050772593\n",
       "334362  3000630405861  300052291934\n",
       "\n",
       "[334363 rows x 2 columns]"
      ]
     },
     "execution_count": 12,
     "metadata": {},
     "output_type": "execute_result"
    }
   ],
   "source": [
    "df_offers"
   ]
  },
  {
   "cell_type": "code",
   "execution_count": 13,
   "metadata": {},
   "outputs": [
    {
     "name": "stdout",
     "output_type": "stream",
     "text": [
      "<class 'pandas.core.frame.DataFrame'>\n",
      "RangeIndex: 334363 entries, 0 to 334362\n",
      "Data columns (total 2 columns):\n",
      " #   Column    Non-Null Count   Dtype\n",
      "---  ------    --------------   -----\n",
      " 0   order_gk  334363 non-null  int64\n",
      " 1   offer_id  334363 non-null  int64\n",
      "dtypes: int64(2)\n",
      "memory usage: 5.1 MB\n"
     ]
    }
   ],
   "source": [
    "df_offers.info()"
   ]
  },
  {
   "cell_type": "code",
   "execution_count": 14,
   "metadata": {},
   "outputs": [
    {
     "data": {
      "text/plain": [
       "(334363, 2)"
      ]
     },
     "execution_count": 14,
     "metadata": {},
     "output_type": "execute_result"
    }
   ],
   "source": [
    "df_offers.shape"
   ]
  },
  {
   "cell_type": "code",
   "execution_count": 15,
   "metadata": {},
   "outputs": [
    {
     "data": {
      "text/plain": [
       "668726"
      ]
     },
     "execution_count": 15,
     "metadata": {},
     "output_type": "execute_result"
    }
   ],
   "source": [
    "df_offers.size"
   ]
  },
  {
   "cell_type": "code",
   "execution_count": 16,
   "metadata": {},
   "outputs": [
    {
     "data": {
      "text/plain": [
       "order_gk    0\n",
       "offer_id    0\n",
       "dtype: int64"
      ]
     },
     "execution_count": 16,
     "metadata": {},
     "output_type": "execute_result"
    }
   ],
   "source": [
    "df_offers.isnull().sum()"
   ]
  },
  {
   "cell_type": "markdown",
   "metadata": {},
   "source": [
    "## Merging the dataset"
   ]
  },
  {
   "cell_type": "code",
   "execution_count": 17,
   "metadata": {},
   "outputs": [],
   "source": [
    "df = df_orders.merge(df_offers, how='inner',on='order_gk')"
   ]
  },
  {
   "cell_type": "code",
   "execution_count": 18,
   "metadata": {},
   "outputs": [
    {
     "data": {
      "text/html": [
       "<div>\n",
       "<style scoped>\n",
       "    .dataframe tbody tr th:only-of-type {\n",
       "        vertical-align: middle;\n",
       "    }\n",
       "\n",
       "    .dataframe tbody tr th {\n",
       "        vertical-align: top;\n",
       "    }\n",
       "\n",
       "    .dataframe thead th {\n",
       "        text-align: right;\n",
       "    }\n",
       "</style>\n",
       "<table border=\"1\" class=\"dataframe\">\n",
       "  <thead>\n",
       "    <tr style=\"text-align: right;\">\n",
       "      <th></th>\n",
       "      <th>order_datetime</th>\n",
       "      <th>origin_longitude</th>\n",
       "      <th>origin_latitude</th>\n",
       "      <th>m_order_eta</th>\n",
       "      <th>order_gk</th>\n",
       "      <th>order_status_key</th>\n",
       "      <th>is_driver_assigned_key</th>\n",
       "      <th>cancellations_time_in_seconds</th>\n",
       "      <th>offer_id</th>\n",
       "    </tr>\n",
       "  </thead>\n",
       "  <tbody>\n",
       "    <tr>\n",
       "      <th>0</th>\n",
       "      <td>2024-04-14 18:08:07</td>\n",
       "      <td>-0.978916</td>\n",
       "      <td>51.456173</td>\n",
       "      <td>60.0</td>\n",
       "      <td>3000583041974</td>\n",
       "      <td>4</td>\n",
       "      <td>1</td>\n",
       "      <td>198.0</td>\n",
       "      <td>300050983403</td>\n",
       "    </tr>\n",
       "    <tr>\n",
       "      <th>1</th>\n",
       "      <td>2024-04-14 20:57:32</td>\n",
       "      <td>-0.950385</td>\n",
       "      <td>51.456843</td>\n",
       "      <td>NaN</td>\n",
       "      <td>3000583116437</td>\n",
       "      <td>4</td>\n",
       "      <td>0</td>\n",
       "      <td>128.0</td>\n",
       "      <td>300050986179</td>\n",
       "    </tr>\n",
       "    <tr>\n",
       "      <th>2</th>\n",
       "      <td>2024-04-14 20:57:32</td>\n",
       "      <td>-0.950385</td>\n",
       "      <td>51.456843</td>\n",
       "      <td>NaN</td>\n",
       "      <td>3000583116437</td>\n",
       "      <td>4</td>\n",
       "      <td>0</td>\n",
       "      <td>128.0</td>\n",
       "      <td>300050986174</td>\n",
       "    </tr>\n",
       "    <tr>\n",
       "      <th>3</th>\n",
       "      <td>2024-04-14 20:57:32</td>\n",
       "      <td>-0.950385</td>\n",
       "      <td>51.456843</td>\n",
       "      <td>NaN</td>\n",
       "      <td>3000583116437</td>\n",
       "      <td>4</td>\n",
       "      <td>0</td>\n",
       "      <td>128.0</td>\n",
       "      <td>300050986180</td>\n",
       "    </tr>\n",
       "    <tr>\n",
       "      <th>4</th>\n",
       "      <td>2024-04-14 12:07:50</td>\n",
       "      <td>-0.969520</td>\n",
       "      <td>51.455544</td>\n",
       "      <td>477.0</td>\n",
       "      <td>3000582891479</td>\n",
       "      <td>4</td>\n",
       "      <td>1</td>\n",
       "      <td>46.0</td>\n",
       "      <td>300050976275</td>\n",
       "    </tr>\n",
       "    <tr>\n",
       "      <th>...</th>\n",
       "      <td>...</td>\n",
       "      <td>...</td>\n",
       "      <td>...</td>\n",
       "      <td>...</td>\n",
       "      <td>...</td>\n",
       "      <td>...</td>\n",
       "      <td>...</td>\n",
       "      <td>...</td>\n",
       "      <td>...</td>\n",
       "    </tr>\n",
       "    <tr>\n",
       "      <th>31263</th>\n",
       "      <td>2024-04-14 12:44:11</td>\n",
       "      <td>-0.975372</td>\n",
       "      <td>51.457846</td>\n",
       "      <td>NaN</td>\n",
       "      <td>3000597886155</td>\n",
       "      <td>4</td>\n",
       "      <td>0</td>\n",
       "      <td>43.0</td>\n",
       "      <td>300051590196</td>\n",
       "    </tr>\n",
       "    <tr>\n",
       "      <th>31264</th>\n",
       "      <td>2024-04-14 12:42:52</td>\n",
       "      <td>-0.975372</td>\n",
       "      <td>51.457846</td>\n",
       "      <td>NaN</td>\n",
       "      <td>3000597886140</td>\n",
       "      <td>4</td>\n",
       "      <td>0</td>\n",
       "      <td>44.0</td>\n",
       "      <td>300051590176</td>\n",
       "    </tr>\n",
       "    <tr>\n",
       "      <th>31265</th>\n",
       "      <td>2024-04-14 13:11:35</td>\n",
       "      <td>-0.975372</td>\n",
       "      <td>51.457846</td>\n",
       "      <td>NaN</td>\n",
       "      <td>3000599186906</td>\n",
       "      <td>4</td>\n",
       "      <td>0</td>\n",
       "      <td>36.0</td>\n",
       "      <td>300051648809</td>\n",
       "    </tr>\n",
       "    <tr>\n",
       "      <th>31266</th>\n",
       "      <td>2024-04-14 13:17:21</td>\n",
       "      <td>-0.972926</td>\n",
       "      <td>51.457693</td>\n",
       "      <td>60.0</td>\n",
       "      <td>3000599187034</td>\n",
       "      <td>4</td>\n",
       "      <td>1</td>\n",
       "      <td>34.0</td>\n",
       "      <td>300051648910</td>\n",
       "    </tr>\n",
       "    <tr>\n",
       "      <th>31267</th>\n",
       "      <td>2024-04-14 11:49:35</td>\n",
       "      <td>-0.974738</td>\n",
       "      <td>51.458180</td>\n",
       "      <td>177.0</td>\n",
       "      <td>3000592871241</td>\n",
       "      <td>4</td>\n",
       "      <td>1</td>\n",
       "      <td>40.0</td>\n",
       "      <td>300051391527</td>\n",
       "    </tr>\n",
       "  </tbody>\n",
       "</table>\n",
       "<p>31268 rows × 9 columns</p>\n",
       "</div>"
      ],
      "text/plain": [
       "           order_datetime  origin_longitude  origin_latitude  m_order_eta  \\\n",
       "0     2024-04-14 18:08:07         -0.978916        51.456173         60.0   \n",
       "1     2024-04-14 20:57:32         -0.950385        51.456843          NaN   \n",
       "2     2024-04-14 20:57:32         -0.950385        51.456843          NaN   \n",
       "3     2024-04-14 20:57:32         -0.950385        51.456843          NaN   \n",
       "4     2024-04-14 12:07:50         -0.969520        51.455544        477.0   \n",
       "...                   ...               ...              ...          ...   \n",
       "31263 2024-04-14 12:44:11         -0.975372        51.457846          NaN   \n",
       "31264 2024-04-14 12:42:52         -0.975372        51.457846          NaN   \n",
       "31265 2024-04-14 13:11:35         -0.975372        51.457846          NaN   \n",
       "31266 2024-04-14 13:17:21         -0.972926        51.457693         60.0   \n",
       "31267 2024-04-14 11:49:35         -0.974738        51.458180        177.0   \n",
       "\n",
       "            order_gk  order_status_key  is_driver_assigned_key  \\\n",
       "0      3000583041974                 4                       1   \n",
       "1      3000583116437                 4                       0   \n",
       "2      3000583116437                 4                       0   \n",
       "3      3000583116437                 4                       0   \n",
       "4      3000582891479                 4                       1   \n",
       "...              ...               ...                     ...   \n",
       "31263  3000597886155                 4                       0   \n",
       "31264  3000597886140                 4                       0   \n",
       "31265  3000599186906                 4                       0   \n",
       "31266  3000599187034                 4                       1   \n",
       "31267  3000592871241                 4                       1   \n",
       "\n",
       "       cancellations_time_in_seconds      offer_id  \n",
       "0                              198.0  300050983403  \n",
       "1                              128.0  300050986179  \n",
       "2                              128.0  300050986174  \n",
       "3                              128.0  300050986180  \n",
       "4                               46.0  300050976275  \n",
       "...                              ...           ...  \n",
       "31263                           43.0  300051590196  \n",
       "31264                           44.0  300051590176  \n",
       "31265                           36.0  300051648809  \n",
       "31266                           34.0  300051648910  \n",
       "31267                           40.0  300051391527  \n",
       "\n",
       "[31268 rows x 9 columns]"
      ]
     },
     "execution_count": 18,
     "metadata": {},
     "output_type": "execute_result"
    }
   ],
   "source": [
    "df"
   ]
  },
  {
   "cell_type": "code",
   "execution_count": 19,
   "metadata": {},
   "outputs": [],
   "source": [
    "def assigned(row):\n",
    "    x = row['is_driver_assigned_key']\n",
    "    if x==1:\n",
    "        return \"Yes\"\n",
    "    else:\n",
    "        return \"No\"\n",
    "    \n",
    "df['is_driver_assigned_key'] = df.apply(assigned,axis=1)"
   ]
  },
  {
   "cell_type": "markdown",
   "metadata": {},
   "source": [
    "order_status_key - status, an enumeration consisting of the following mapping:\n",
    "* 4 - cancelled by client,\n",
    "* 9 - cancelled by system, i.e., a reject"
   ]
  },
  {
   "cell_type": "code",
   "execution_count": 20,
   "metadata": {},
   "outputs": [],
   "source": [
    "def assign(row):\n",
    "    x = row['order_status_key']\n",
    "    if x==4:\n",
    "        return \"Client_Cancellation\"\n",
    "    else:\n",
    "        return \"System_Cancellation\"\n",
    "    \n",
    "df['order_status_key'] = df.apply(assign,axis=1)"
   ]
  },
  {
   "cell_type": "markdown",
   "metadata": {},
   "source": [
    "# EDA"
   ]
  },
  {
   "cell_type": "markdown",
   "metadata": {},
   "source": [
    "## Question 1"
   ]
  },
  {
   "cell_type": "markdown",
   "metadata": {},
   "source": [
    "#### Build up distribution of orders according to reasons for failure: cancellations before and after driver assignment, and reasons for order rejection. Analyse the resulting plot. Which category has the highest number of orders?"
   ]
  },
  {
   "cell_type": "code",
   "execution_count": 21,
   "metadata": {},
   "outputs": [],
   "source": [
    "cancellation = df.groupby(['is_driver_assigned_key','order_status_key'])['offer_id'].count().to_frame().reset_index().rename(\n",
    "    columns={'index':'','is_driver_assigned_key':'driver_assigned','order_status_key':'order_status','offer_id':'count'})"
   ]
  },
  {
   "cell_type": "code",
   "execution_count": 22,
   "metadata": {},
   "outputs": [
    {
     "data": {
      "text/html": [
       "<div>\n",
       "<style scoped>\n",
       "    .dataframe tbody tr th:only-of-type {\n",
       "        vertical-align: middle;\n",
       "    }\n",
       "\n",
       "    .dataframe tbody tr th {\n",
       "        vertical-align: top;\n",
       "    }\n",
       "\n",
       "    .dataframe thead th {\n",
       "        text-align: right;\n",
       "    }\n",
       "</style>\n",
       "<table border=\"1\" class=\"dataframe\">\n",
       "  <thead>\n",
       "    <tr style=\"text-align: right;\">\n",
       "      <th></th>\n",
       "      <th>driver_assigned</th>\n",
       "      <th>order_status</th>\n",
       "      <th>count</th>\n",
       "    </tr>\n",
       "  </thead>\n",
       "  <tbody>\n",
       "    <tr>\n",
       "      <th>0</th>\n",
       "      <td>No</td>\n",
       "      <td>Client_Cancellation</td>\n",
       "      <td>13435</td>\n",
       "    </tr>\n",
       "    <tr>\n",
       "      <th>1</th>\n",
       "      <td>No</td>\n",
       "      <td>System_Cancellation</td>\n",
       "      <td>9469</td>\n",
       "    </tr>\n",
       "    <tr>\n",
       "      <th>2</th>\n",
       "      <td>Yes</td>\n",
       "      <td>Client_Cancellation</td>\n",
       "      <td>8360</td>\n",
       "    </tr>\n",
       "    <tr>\n",
       "      <th>3</th>\n",
       "      <td>Yes</td>\n",
       "      <td>System_Cancellation</td>\n",
       "      <td>4</td>\n",
       "    </tr>\n",
       "  </tbody>\n",
       "</table>\n",
       "</div>"
      ],
      "text/plain": [
       "  driver_assigned         order_status  count\n",
       "0              No  Client_Cancellation  13435\n",
       "1              No  System_Cancellation   9469\n",
       "2             Yes  Client_Cancellation   8360\n",
       "3             Yes  System_Cancellation      4"
      ]
     },
     "execution_count": 22,
     "metadata": {},
     "output_type": "execute_result"
    }
   ],
   "source": [
    "cancellation"
   ]
  },
  {
   "cell_type": "code",
   "execution_count": 23,
   "metadata": {},
   "outputs": [
    {
     "data": {
      "image/png": "[encoded data removed]",
      "text/plain": [
       "<Figure size 576x360 with 1 Axes>"
      ]
     },
     "metadata": {
      "needs_background": "light"
     },
     "output_type": "display_data"
    }
   ],
   "source": [
    "plt.figure(figsize=(8,5))\n",
    "ax = sns.histplot(binwidth=1,\n",
    "            x=df['order_status_key'],\n",
    "            hue=df['is_driver_assigned_key'],\n",
    "            data=df,\n",
    "            stat=\"count\",\n",
    "            multiple=\"dodge\")\n",
    "ax.bar_label(container = ax.containers[0])\n",
    "ax.bar_label(container = ax.containers[1])\n",
    "\n",
    "plt.title('Distribution of orders according to reason for failure')\n",
    "plt.ylabel('Number of orders')\n",
    "\n",
    "plt.show()"
   ]
  },
  {
   "cell_type": "markdown",
   "metadata": {},
   "source": [
    "The cancellation data provides an overview of cancellation patterns based on whether a driver was assigned to the order. It appears that there are more cancellations when no driver is assigned compared to when a driver is assigned.\n",
    "Even without a driver assigned, there were 13,435 cancellations initiated by clients. Here are some potential reasons for client cancellations even when no driver is assigned:\n",
    "* **Long Waiting Times:** Customers might cancel their orders if they perceive that the waiting time for a driver assignment is too long. This could be due to various factors such as high demand, insufficient number of available drivers, or delays in the process.\n",
    "* **Technical Glitches:** Technical issues within the system might result in delays or failures in assigning drivers to orders.\n",
    "* **Competing Services:** Customers might find alternative transportation options or services more appealing while waiting for driver assignment, prompting them to cancel their current order."
   ]
  },
  {
   "cell_type": "markdown",
   "metadata": {},
   "source": [
    "## Question 2"
   ]
  },
  {
   "cell_type": "markdown",
   "metadata": {},
   "source": [
    "#### Plot the distribution of failed orders by hours. Is there a trend that certain hours have an abnormally high proportion of one category or another? What hours are the biggest fails? How can this be explained?"
   ]
  },
  {
   "cell_type": "code",
   "execution_count": 24,
   "metadata": {},
   "outputs": [],
   "source": [
    "df['hour']=df.order_datetime.dt.hour"
   ]
  },
  {
   "cell_type": "code",
   "execution_count": 25,
   "metadata": {},
   "outputs": [
    {
     "data": {
      "text/plain": [
       "8     3865\n",
       "21    2782\n",
       "23    2471\n",
       "22    2029\n",
       "0     1993\n",
       "7     1566\n",
       "17    1540\n",
       "2     1475\n",
       "15    1444\n",
       "3     1418\n",
       "20    1381\n",
       "1     1305\n",
       "9     1258\n",
       "18    1136\n",
       "13    1072\n",
       "16     832\n",
       "14     733\n",
       "12     697\n",
       "19     644\n",
       "11     510\n",
       "6      392\n",
       "10     387\n",
       "4      227\n",
       "5      111\n",
       "Name: hour, dtype: int64"
      ]
     },
     "execution_count": 25,
     "metadata": {},
     "output_type": "execute_result"
    }
   ],
   "source": [
    "df.hour.value_counts()"
   ]
  },
  {
   "cell_type": "code",
   "execution_count": 65,
   "metadata": {},
   "outputs": [
    {
     "data": {
      "image/png": "[encoded data removed]",
      "text/plain": [
       "<Figure size 1080x720 with 1 Axes>"
      ]
     },
     "metadata": {
      "needs_background": "light"
     },
     "output_type": "display_data"
    }
   ],
   "source": [
    "plt.figure(figsize=(15,10))\n",
    "\n",
    "ax=sns.countplot(data=df, x=df['hour'])\n",
    "ax.bar_label(container = ax.containers[0])\n",
    "\n",
    "plt.title(\"cancelled orders vs order_hour\")\n",
    "plt.ylabel(\"No of Cancelled orders\")\n",
    "plt.show()"
   ]
  },
  {
   "cell_type": "markdown",
   "metadata": {},
   "source": [
    "* Hours 8, 21, 23, and 22 have the highest counts of cancellations, indicating potential peaks in cancellation activity during these hours.\n",
    "* These hours might correspond to specific times of the day when there are higher volumes of orders."
   ]
  },
  {
   "cell_type": "code",
   "execution_count": 27,
   "metadata": {},
   "outputs": [],
   "source": [
    "status = df.groupby(['hour','order_status_key','is_driver_assigned_key'])['offer_id'].count().to_frame().reset_index()"
   ]
  },
  {
   "cell_type": "code",
   "execution_count": 28,
   "metadata": {},
   "outputs": [
    {
     "data": {
      "text/html": [
       "<div>\n",
       "<style scoped>\n",
       "    .dataframe tbody tr th:only-of-type {\n",
       "        vertical-align: middle;\n",
       "    }\n",
       "\n",
       "    .dataframe tbody tr th {\n",
       "        vertical-align: top;\n",
       "    }\n",
       "\n",
       "    .dataframe thead th {\n",
       "        text-align: right;\n",
       "    }\n",
       "</style>\n",
       "<table border=\"1\" class=\"dataframe\">\n",
       "  <thead>\n",
       "    <tr style=\"text-align: right;\">\n",
       "      <th></th>\n",
       "      <th>hour</th>\n",
       "      <th>order_status_key</th>\n",
       "      <th>is_driver_assigned_key</th>\n",
       "      <th>offer_id</th>\n",
       "    </tr>\n",
       "  </thead>\n",
       "  <tbody>\n",
       "    <tr>\n",
       "      <th>0</th>\n",
       "      <td>0</td>\n",
       "      <td>Client_Cancellation</td>\n",
       "      <td>No</td>\n",
       "      <td>957</td>\n",
       "    </tr>\n",
       "    <tr>\n",
       "      <th>1</th>\n",
       "      <td>0</td>\n",
       "      <td>Client_Cancellation</td>\n",
       "      <td>Yes</td>\n",
       "      <td>326</td>\n",
       "    </tr>\n",
       "    <tr>\n",
       "      <th>2</th>\n",
       "      <td>0</td>\n",
       "      <td>System_Cancellation</td>\n",
       "      <td>No</td>\n",
       "      <td>706</td>\n",
       "    </tr>\n",
       "    <tr>\n",
       "      <th>3</th>\n",
       "      <td>0</td>\n",
       "      <td>System_Cancellation</td>\n",
       "      <td>Yes</td>\n",
       "      <td>4</td>\n",
       "    </tr>\n",
       "    <tr>\n",
       "      <th>4</th>\n",
       "      <td>1</td>\n",
       "      <td>Client_Cancellation</td>\n",
       "      <td>No</td>\n",
       "      <td>633</td>\n",
       "    </tr>\n",
       "    <tr>\n",
       "      <th>...</th>\n",
       "      <td>...</td>\n",
       "      <td>...</td>\n",
       "      <td>...</td>\n",
       "      <td>...</td>\n",
       "    </tr>\n",
       "    <tr>\n",
       "      <th>68</th>\n",
       "      <td>22</td>\n",
       "      <td>Client_Cancellation</td>\n",
       "      <td>Yes</td>\n",
       "      <td>415</td>\n",
       "    </tr>\n",
       "    <tr>\n",
       "      <th>69</th>\n",
       "      <td>22</td>\n",
       "      <td>System_Cancellation</td>\n",
       "      <td>No</td>\n",
       "      <td>660</td>\n",
       "    </tr>\n",
       "    <tr>\n",
       "      <th>70</th>\n",
       "      <td>23</td>\n",
       "      <td>Client_Cancellation</td>\n",
       "      <td>No</td>\n",
       "      <td>1144</td>\n",
       "    </tr>\n",
       "    <tr>\n",
       "      <th>71</th>\n",
       "      <td>23</td>\n",
       "      <td>Client_Cancellation</td>\n",
       "      <td>Yes</td>\n",
       "      <td>444</td>\n",
       "    </tr>\n",
       "    <tr>\n",
       "      <th>72</th>\n",
       "      <td>23</td>\n",
       "      <td>System_Cancellation</td>\n",
       "      <td>No</td>\n",
       "      <td>883</td>\n",
       "    </tr>\n",
       "  </tbody>\n",
       "</table>\n",
       "<p>73 rows × 4 columns</p>\n",
       "</div>"
      ],
      "text/plain": [
       "    hour     order_status_key is_driver_assigned_key  offer_id\n",
       "0      0  Client_Cancellation                     No       957\n",
       "1      0  Client_Cancellation                    Yes       326\n",
       "2      0  System_Cancellation                     No       706\n",
       "3      0  System_Cancellation                    Yes         4\n",
       "4      1  Client_Cancellation                     No       633\n",
       "..   ...                  ...                    ...       ...\n",
       "68    22  Client_Cancellation                    Yes       415\n",
       "69    22  System_Cancellation                     No       660\n",
       "70    23  Client_Cancellation                     No      1144\n",
       "71    23  Client_Cancellation                    Yes       444\n",
       "72    23  System_Cancellation                     No       883\n",
       "\n",
       "[73 rows x 4 columns]"
      ]
     },
     "execution_count": 28,
     "metadata": {},
     "output_type": "execute_result"
    }
   ],
   "source": [
    "status"
   ]
  },
  {
   "cell_type": "code",
   "execution_count": 29,
   "metadata": {},
   "outputs": [
    {
     "data": {
      "text/plain": [
       "<function matplotlib.pyplot.show(close=None, block=None)>"
      ]
     },
     "execution_count": 29,
     "metadata": {},
     "output_type": "execute_result"
    },
    {
     "data": {
      "image/png": "[encoded data removed]",
      "text/plain": [
       "<Figure size 1440x864 with 1 Axes>"
      ]
     },
     "metadata": {
      "needs_background": "light"
     },
     "output_type": "display_data"
    }
   ],
   "source": [
    "plt.figure(figsize=(20,12))\n",
    "ax=sns.histplot(binwidth=1,\n",
    "                x='hour',\n",
    "                hue=df[['order_status_key','is_driver_assigned_key']].apply(tuple, axis=1),\n",
    "                 data=df,\n",
    "                 stat='count',\n",
    "                 multiple='dodge')\n",
    "\n",
    "ax.bar_label(container=ax.containers[0])\n",
    "ax.bar_label(container=ax.containers[1])\n",
    "ax.bar_label(container=ax.containers[2])\n",
    "ax.bar_label(container=ax.containers[3])\n",
    "#to show all x-axis values\n",
    "ax.set_xticks(np.arange(1,24,1)) \n",
    "plt.title(\"Count of failed orders\")\n",
    "plt.ylabel(\"Number of cancelled orders\")\n",
    "plt.show"
   ]
  },
  {
   "cell_type": "markdown",
   "metadata": {},
   "source": [
    "The highest cancellation count across all categories occurred at 8:00"
   ]
  },
  {
   "cell_type": "markdown",
   "metadata": {},
   "source": [
    "## Question 3"
   ]
  },
  {
   "cell_type": "markdown",
   "metadata": {},
   "source": [
    "#### Plot the average time to cancellation with and without driver, by the hour. If there are any outliers in the data, it would be better to remove them. Can we draw any conclusions from this plot?"
   ]
  },
  {
   "cell_type": "code",
   "execution_count": 30,
   "metadata": {},
   "outputs": [],
   "source": [
    "avg_time = df.groupby(['hour','is_driver_assigned_key'])['cancellations_time_in_seconds'].mean().to_frame().reset_index()"
   ]
  },
  {
   "cell_type": "code",
   "execution_count": 31,
   "metadata": {},
   "outputs": [],
   "source": [
    "avg_time = avg_time.rename(columns={'hour':'hour','is_driver_assigned_key':'driver_assigned','cancellations_time_in_seconds':'avg_time_in_seconds'})"
   ]
  },
  {
   "cell_type": "code",
   "execution_count": 32,
   "metadata": {},
   "outputs": [
    {
     "data": {
      "text/html": [
       "<div>\n",
       "<style scoped>\n",
       "    .dataframe tbody tr th:only-of-type {\n",
       "        vertical-align: middle;\n",
       "    }\n",
       "\n",
       "    .dataframe tbody tr th {\n",
       "        vertical-align: top;\n",
       "    }\n",
       "\n",
       "    .dataframe thead th {\n",
       "        text-align: right;\n",
       "    }\n",
       "</style>\n",
       "<table border=\"1\" class=\"dataframe\">\n",
       "  <thead>\n",
       "    <tr style=\"text-align: right;\">\n",
       "      <th></th>\n",
       "      <th>hour</th>\n",
       "      <th>driver_assigned</th>\n",
       "      <th>avg_time_in_seconds</th>\n",
       "    </tr>\n",
       "  </thead>\n",
       "  <tbody>\n",
       "    <tr>\n",
       "      <th>0</th>\n",
       "      <td>0</td>\n",
       "      <td>No</td>\n",
       "      <td>115.126437</td>\n",
       "    </tr>\n",
       "    <tr>\n",
       "      <th>1</th>\n",
       "      <td>0</td>\n",
       "      <td>Yes</td>\n",
       "      <td>276.082822</td>\n",
       "    </tr>\n",
       "    <tr>\n",
       "      <th>2</th>\n",
       "      <td>1</td>\n",
       "      <td>No</td>\n",
       "      <td>100.593997</td>\n",
       "    </tr>\n",
       "    <tr>\n",
       "      <th>3</th>\n",
       "      <td>1</td>\n",
       "      <td>Yes</td>\n",
       "      <td>296.312081</td>\n",
       "    </tr>\n",
       "    <tr>\n",
       "      <th>4</th>\n",
       "      <td>2</td>\n",
       "      <td>No</td>\n",
       "      <td>121.305461</td>\n",
       "    </tr>\n",
       "    <tr>\n",
       "      <th>5</th>\n",
       "      <td>2</td>\n",
       "      <td>Yes</td>\n",
       "      <td>301.466667</td>\n",
       "    </tr>\n",
       "    <tr>\n",
       "      <th>6</th>\n",
       "      <td>3</td>\n",
       "      <td>No</td>\n",
       "      <td>129.182301</td>\n",
       "    </tr>\n",
       "    <tr>\n",
       "      <th>7</th>\n",
       "      <td>3</td>\n",
       "      <td>Yes</td>\n",
       "      <td>368.682051</td>\n",
       "    </tr>\n",
       "    <tr>\n",
       "      <th>8</th>\n",
       "      <td>4</td>\n",
       "      <td>No</td>\n",
       "      <td>100.733333</td>\n",
       "    </tr>\n",
       "    <tr>\n",
       "      <th>9</th>\n",
       "      <td>4</td>\n",
       "      <td>Yes</td>\n",
       "      <td>245.250000</td>\n",
       "    </tr>\n",
       "    <tr>\n",
       "      <th>10</th>\n",
       "      <td>5</td>\n",
       "      <td>No</td>\n",
       "      <td>102.838710</td>\n",
       "    </tr>\n",
       "    <tr>\n",
       "      <th>11</th>\n",
       "      <td>5</td>\n",
       "      <td>Yes</td>\n",
       "      <td>156.617021</td>\n",
       "    </tr>\n",
       "    <tr>\n",
       "      <th>12</th>\n",
       "      <td>6</td>\n",
       "      <td>No</td>\n",
       "      <td>202.952663</td>\n",
       "    </tr>\n",
       "    <tr>\n",
       "      <th>13</th>\n",
       "      <td>6</td>\n",
       "      <td>Yes</td>\n",
       "      <td>225.508772</td>\n",
       "    </tr>\n",
       "    <tr>\n",
       "      <th>14</th>\n",
       "      <td>7</td>\n",
       "      <td>No</td>\n",
       "      <td>141.177820</td>\n",
       "    </tr>\n",
       "    <tr>\n",
       "      <th>15</th>\n",
       "      <td>7</td>\n",
       "      <td>Yes</td>\n",
       "      <td>177.640232</td>\n",
       "    </tr>\n",
       "    <tr>\n",
       "      <th>16</th>\n",
       "      <td>8</td>\n",
       "      <td>No</td>\n",
       "      <td>132.625432</td>\n",
       "    </tr>\n",
       "    <tr>\n",
       "      <th>17</th>\n",
       "      <td>8</td>\n",
       "      <td>Yes</td>\n",
       "      <td>172.896296</td>\n",
       "    </tr>\n",
       "    <tr>\n",
       "      <th>18</th>\n",
       "      <td>9</td>\n",
       "      <td>No</td>\n",
       "      <td>138.014894</td>\n",
       "    </tr>\n",
       "    <tr>\n",
       "      <th>19</th>\n",
       "      <td>9</td>\n",
       "      <td>Yes</td>\n",
       "      <td>230.821862</td>\n",
       "    </tr>\n",
       "    <tr>\n",
       "      <th>20</th>\n",
       "      <td>10</td>\n",
       "      <td>No</td>\n",
       "      <td>93.795082</td>\n",
       "    </tr>\n",
       "    <tr>\n",
       "      <th>21</th>\n",
       "      <td>10</td>\n",
       "      <td>Yes</td>\n",
       "      <td>206.447368</td>\n",
       "    </tr>\n",
       "    <tr>\n",
       "      <th>22</th>\n",
       "      <td>11</td>\n",
       "      <td>No</td>\n",
       "      <td>93.090323</td>\n",
       "    </tr>\n",
       "    <tr>\n",
       "      <th>23</th>\n",
       "      <td>11</td>\n",
       "      <td>Yes</td>\n",
       "      <td>276.793103</td>\n",
       "    </tr>\n",
       "    <tr>\n",
       "      <th>24</th>\n",
       "      <td>12</td>\n",
       "      <td>No</td>\n",
       "      <td>128.224299</td>\n",
       "    </tr>\n",
       "    <tr>\n",
       "      <th>25</th>\n",
       "      <td>12</td>\n",
       "      <td>Yes</td>\n",
       "      <td>243.000000</td>\n",
       "    </tr>\n",
       "    <tr>\n",
       "      <th>26</th>\n",
       "      <td>13</td>\n",
       "      <td>No</td>\n",
       "      <td>103.577982</td>\n",
       "    </tr>\n",
       "    <tr>\n",
       "      <th>27</th>\n",
       "      <td>13</td>\n",
       "      <td>Yes</td>\n",
       "      <td>248.301170</td>\n",
       "    </tr>\n",
       "    <tr>\n",
       "      <th>28</th>\n",
       "      <td>14</td>\n",
       "      <td>No</td>\n",
       "      <td>112.752412</td>\n",
       "    </tr>\n",
       "    <tr>\n",
       "      <th>29</th>\n",
       "      <td>14</td>\n",
       "      <td>Yes</td>\n",
       "      <td>241.367003</td>\n",
       "    </tr>\n",
       "    <tr>\n",
       "      <th>30</th>\n",
       "      <td>15</td>\n",
       "      <td>No</td>\n",
       "      <td>140.970492</td>\n",
       "    </tr>\n",
       "    <tr>\n",
       "      <th>31</th>\n",
       "      <td>15</td>\n",
       "      <td>Yes</td>\n",
       "      <td>188.380762</td>\n",
       "    </tr>\n",
       "    <tr>\n",
       "      <th>32</th>\n",
       "      <td>16</td>\n",
       "      <td>No</td>\n",
       "      <td>123.181102</td>\n",
       "    </tr>\n",
       "    <tr>\n",
       "      <th>33</th>\n",
       "      <td>16</td>\n",
       "      <td>Yes</td>\n",
       "      <td>217.126844</td>\n",
       "    </tr>\n",
       "    <tr>\n",
       "      <th>34</th>\n",
       "      <td>17</td>\n",
       "      <td>No</td>\n",
       "      <td>106.842593</td>\n",
       "    </tr>\n",
       "    <tr>\n",
       "      <th>35</th>\n",
       "      <td>17</td>\n",
       "      <td>Yes</td>\n",
       "      <td>280.782796</td>\n",
       "    </tr>\n",
       "    <tr>\n",
       "      <th>36</th>\n",
       "      <td>18</td>\n",
       "      <td>No</td>\n",
       "      <td>85.845638</td>\n",
       "    </tr>\n",
       "    <tr>\n",
       "      <th>37</th>\n",
       "      <td>18</td>\n",
       "      <td>Yes</td>\n",
       "      <td>270.277333</td>\n",
       "    </tr>\n",
       "    <tr>\n",
       "      <th>38</th>\n",
       "      <td>19</td>\n",
       "      <td>No</td>\n",
       "      <td>103.231405</td>\n",
       "    </tr>\n",
       "    <tr>\n",
       "      <th>39</th>\n",
       "      <td>19</td>\n",
       "      <td>Yes</td>\n",
       "      <td>151.039088</td>\n",
       "    </tr>\n",
       "    <tr>\n",
       "      <th>40</th>\n",
       "      <td>20</td>\n",
       "      <td>No</td>\n",
       "      <td>117.518072</td>\n",
       "    </tr>\n",
       "    <tr>\n",
       "      <th>41</th>\n",
       "      <td>20</td>\n",
       "      <td>Yes</td>\n",
       "      <td>214.517341</td>\n",
       "    </tr>\n",
       "    <tr>\n",
       "      <th>42</th>\n",
       "      <td>21</td>\n",
       "      <td>No</td>\n",
       "      <td>130.828290</td>\n",
       "    </tr>\n",
       "    <tr>\n",
       "      <th>43</th>\n",
       "      <td>21</td>\n",
       "      <td>Yes</td>\n",
       "      <td>224.443077</td>\n",
       "    </tr>\n",
       "    <tr>\n",
       "      <th>44</th>\n",
       "      <td>22</td>\n",
       "      <td>No</td>\n",
       "      <td>103.662474</td>\n",
       "    </tr>\n",
       "    <tr>\n",
       "      <th>45</th>\n",
       "      <td>22</td>\n",
       "      <td>Yes</td>\n",
       "      <td>230.720482</td>\n",
       "    </tr>\n",
       "    <tr>\n",
       "      <th>46</th>\n",
       "      <td>23</td>\n",
       "      <td>No</td>\n",
       "      <td>117.294580</td>\n",
       "    </tr>\n",
       "    <tr>\n",
       "      <th>47</th>\n",
       "      <td>23</td>\n",
       "      <td>Yes</td>\n",
       "      <td>320.189189</td>\n",
       "    </tr>\n",
       "  </tbody>\n",
       "</table>\n",
       "</div>"
      ],
      "text/plain": [
       "    hour driver_assigned  avg_time_in_seconds\n",
       "0      0              No           115.126437\n",
       "1      0             Yes           276.082822\n",
       "2      1              No           100.593997\n",
       "3      1             Yes           296.312081\n",
       "4      2              No           121.305461\n",
       "5      2             Yes           301.466667\n",
       "6      3              No           129.182301\n",
       "7      3             Yes           368.682051\n",
       "8      4              No           100.733333\n",
       "9      4             Yes           245.250000\n",
       "10     5              No           102.838710\n",
       "11     5             Yes           156.617021\n",
       "12     6              No           202.952663\n",
       "13     6             Yes           225.508772\n",
       "14     7              No           141.177820\n",
       "15     7             Yes           177.640232\n",
       "16     8              No           132.625432\n",
       "17     8             Yes           172.896296\n",
       "18     9              No           138.014894\n",
       "19     9             Yes           230.821862\n",
       "20    10              No            93.795082\n",
       "21    10             Yes           206.447368\n",
       "22    11              No            93.090323\n",
       "23    11             Yes           276.793103\n",
       "24    12              No           128.224299\n",
       "25    12             Yes           243.000000\n",
       "26    13              No           103.577982\n",
       "27    13             Yes           248.301170\n",
       "28    14              No           112.752412\n",
       "29    14             Yes           241.367003\n",
       "30    15              No           140.970492\n",
       "31    15             Yes           188.380762\n",
       "32    16              No           123.181102\n",
       "33    16             Yes           217.126844\n",
       "34    17              No           106.842593\n",
       "35    17             Yes           280.782796\n",
       "36    18              No            85.845638\n",
       "37    18             Yes           270.277333\n",
       "38    19              No           103.231405\n",
       "39    19             Yes           151.039088\n",
       "40    20              No           117.518072\n",
       "41    20             Yes           214.517341\n",
       "42    21              No           130.828290\n",
       "43    21             Yes           224.443077\n",
       "44    22              No           103.662474\n",
       "45    22             Yes           230.720482\n",
       "46    23              No           117.294580\n",
       "47    23             Yes           320.189189"
      ]
     },
     "execution_count": 32,
     "metadata": {},
     "output_type": "execute_result"
    }
   ],
   "source": [
    "avg_time"
   ]
  },
  {
   "cell_type": "code",
   "execution_count": 33,
   "metadata": {
    "scrolled": true
   },
   "outputs": [
    {
     "name": "stdout",
     "output_type": "stream",
     "text": [
      "<class 'pandas.core.frame.DataFrame'>\n",
      "RangeIndex: 48 entries, 0 to 47\n",
      "Data columns (total 3 columns):\n",
      " #   Column               Non-Null Count  Dtype  \n",
      "---  ------               --------------  -----  \n",
      " 0   hour                 48 non-null     int64  \n",
      " 1   driver_assigned      48 non-null     object \n",
      " 2   avg_time_in_seconds  48 non-null     float64\n",
      "dtypes: float64(1), int64(1), object(1)\n",
      "memory usage: 1.2+ KB\n"
     ]
    }
   ],
   "source": [
    "avg_time.info()"
   ]
  },
  {
   "cell_type": "code",
   "execution_count": 34,
   "metadata": {},
   "outputs": [],
   "source": [
    "avg_time['avg_time_in_seconds'] = round(avg_time['avg_time_in_seconds'], 0)"
   ]
  },
  {
   "cell_type": "code",
   "execution_count": 35,
   "metadata": {},
   "outputs": [
    {
     "data": {
      "text/plain": [
       "<function matplotlib.pyplot.show(close=None, block=None)>"
      ]
     },
     "execution_count": 35,
     "metadata": {},
     "output_type": "execute_result"
    },
    {
     "data": {
      "image/png": "[encoded data removed]",
      "text/plain": [
       "<Figure size 1080x576 with 1 Axes>"
      ]
     },
     "metadata": {
      "needs_background": "light"
     },
     "output_type": "display_data"
    }
   ],
   "source": [
    "plt.figure(figsize=(15,8))\n",
    "ax = sns.barplot(x = 'hour',\n",
    "            y = 'avg_time_in_seconds',\n",
    "            hue = 'driver_assigned',\n",
    "            data = avg_time,\n",
    "            palette = \"Blues\")\n",
    "\n",
    "ax.bar_label(container=ax.containers[0])\n",
    "ax.bar_label(container=ax.containers[1])\n",
    "plt.show"
   ]
  },
  {
   "cell_type": "markdown",
   "metadata": {},
   "source": [
    "##### On average, the time to cancellation is consistently longer when a driver is assigned compared to when there is no assigned driver, across all hours. The peak occurs at 3:00, suggesting a significant number of client cancellations during this hour."
   ]
  },
  {
   "cell_type": "markdown",
   "metadata": {},
   "source": [
    "## Question 4"
   ]
  },
  {
   "cell_type": "markdown",
   "metadata": {},
   "source": [
    "#### Plot the distribution of average ETA by hours. How can this plot be explained?"
   ]
  },
  {
   "cell_type": "code",
   "execution_count": 61,
   "metadata": {},
   "outputs": [],
   "source": [
    "avg_eta = df.groupby([\"hour\"])[\"m_order_eta\"].mean().to_frame().reset_index()"
   ]
  },
  {
   "cell_type": "code",
   "execution_count": 62,
   "metadata": {},
   "outputs": [],
   "source": [
    "avg_eta['m_order_eta']= round(avg_eta['m_order_eta'],1)"
   ]
  },
  {
   "cell_type": "code",
   "execution_count": 63,
   "metadata": {
    "scrolled": true
   },
   "outputs": [
    {
     "data": {
      "text/html": [
       "<div>\n",
       "<style scoped>\n",
       "    .dataframe tbody tr th:only-of-type {\n",
       "        vertical-align: middle;\n",
       "    }\n",
       "\n",
       "    .dataframe tbody tr th {\n",
       "        vertical-align: top;\n",
       "    }\n",
       "\n",
       "    .dataframe thead th {\n",
       "        text-align: right;\n",
       "    }\n",
       "</style>\n",
       "<table border=\"1\" class=\"dataframe\">\n",
       "  <thead>\n",
       "    <tr style=\"text-align: right;\">\n",
       "      <th></th>\n",
       "      <th>hour</th>\n",
       "      <th>m_order_eta</th>\n",
       "    </tr>\n",
       "  </thead>\n",
       "  <tbody>\n",
       "    <tr>\n",
       "      <th>0</th>\n",
       "      <td>0</td>\n",
       "      <td>375.4</td>\n",
       "    </tr>\n",
       "    <tr>\n",
       "      <th>1</th>\n",
       "      <td>1</td>\n",
       "      <td>355.3</td>\n",
       "    </tr>\n",
       "    <tr>\n",
       "      <th>2</th>\n",
       "      <td>2</td>\n",
       "      <td>389.6</td>\n",
       "    </tr>\n",
       "    <tr>\n",
       "      <th>3</th>\n",
       "      <td>3</td>\n",
       "      <td>381.5</td>\n",
       "    </tr>\n",
       "    <tr>\n",
       "      <th>4</th>\n",
       "      <td>4</td>\n",
       "      <td>266.1</td>\n",
       "    </tr>\n",
       "    <tr>\n",
       "      <th>5</th>\n",
       "      <td>5</td>\n",
       "      <td>476.8</td>\n",
       "    </tr>\n",
       "    <tr>\n",
       "      <th>6</th>\n",
       "      <td>6</td>\n",
       "      <td>489.5</td>\n",
       "    </tr>\n",
       "    <tr>\n",
       "      <th>7</th>\n",
       "      <td>7</td>\n",
       "      <td>642.7</td>\n",
       "    </tr>\n",
       "    <tr>\n",
       "      <th>8</th>\n",
       "      <td>8</td>\n",
       "      <td>671.1</td>\n",
       "    </tr>\n",
       "    <tr>\n",
       "      <th>9</th>\n",
       "      <td>9</td>\n",
       "      <td>556.1</td>\n",
       "    </tr>\n",
       "    <tr>\n",
       "      <th>10</th>\n",
       "      <td>10</td>\n",
       "      <td>425.0</td>\n",
       "    </tr>\n",
       "    <tr>\n",
       "      <th>11</th>\n",
       "      <td>11</td>\n",
       "      <td>405.8</td>\n",
       "    </tr>\n",
       "    <tr>\n",
       "      <th>12</th>\n",
       "      <td>12</td>\n",
       "      <td>504.7</td>\n",
       "    </tr>\n",
       "    <tr>\n",
       "      <th>13</th>\n",
       "      <td>13</td>\n",
       "      <td>445.2</td>\n",
       "    </tr>\n",
       "    <tr>\n",
       "      <th>14</th>\n",
       "      <td>14</td>\n",
       "      <td>406.4</td>\n",
       "    </tr>\n",
       "    <tr>\n",
       "      <th>15</th>\n",
       "      <td>15</td>\n",
       "      <td>518.2</td>\n",
       "    </tr>\n",
       "    <tr>\n",
       "      <th>16</th>\n",
       "      <td>16</td>\n",
       "      <td>457.0</td>\n",
       "    </tr>\n",
       "    <tr>\n",
       "      <th>17</th>\n",
       "      <td>17</td>\n",
       "      <td>548.7</td>\n",
       "    </tr>\n",
       "    <tr>\n",
       "      <th>18</th>\n",
       "      <td>18</td>\n",
       "      <td>421.7</td>\n",
       "    </tr>\n",
       "    <tr>\n",
       "      <th>19</th>\n",
       "      <td>19</td>\n",
       "      <td>396.9</td>\n",
       "    </tr>\n",
       "    <tr>\n",
       "      <th>20</th>\n",
       "      <td>20</td>\n",
       "      <td>299.6</td>\n",
       "    </tr>\n",
       "    <tr>\n",
       "      <th>21</th>\n",
       "      <td>21</td>\n",
       "      <td>365.6</td>\n",
       "    </tr>\n",
       "    <tr>\n",
       "      <th>22</th>\n",
       "      <td>22</td>\n",
       "      <td>365.9</td>\n",
       "    </tr>\n",
       "    <tr>\n",
       "      <th>23</th>\n",
       "      <td>23</td>\n",
       "      <td>386.1</td>\n",
       "    </tr>\n",
       "  </tbody>\n",
       "</table>\n",
       "</div>"
      ],
      "text/plain": [
       "    hour  m_order_eta\n",
       "0      0        375.4\n",
       "1      1        355.3\n",
       "2      2        389.6\n",
       "3      3        381.5\n",
       "4      4        266.1\n",
       "5      5        476.8\n",
       "6      6        489.5\n",
       "7      7        642.7\n",
       "8      8        671.1\n",
       "9      9        556.1\n",
       "10    10        425.0\n",
       "11    11        405.8\n",
       "12    12        504.7\n",
       "13    13        445.2\n",
       "14    14        406.4\n",
       "15    15        518.2\n",
       "16    16        457.0\n",
       "17    17        548.7\n",
       "18    18        421.7\n",
       "19    19        396.9\n",
       "20    20        299.6\n",
       "21    21        365.6\n",
       "22    22        365.9\n",
       "23    23        386.1"
      ]
     },
     "execution_count": 63,
     "metadata": {},
     "output_type": "execute_result"
    }
   ],
   "source": [
    "avg_eta"
   ]
  },
  {
   "cell_type": "code",
   "execution_count": 64,
   "metadata": {},
   "outputs": [
    {
     "data": {
      "image/png": "[encoded data removed]",
      "text/plain": [
       "<Figure size 936x576 with 1 Axes>"
      ]
     },
     "metadata": {
      "needs_background": "light"
     },
     "output_type": "display_data"
    }
   ],
   "source": [
    "plt.figure(figsize=(13,8))\n",
    "ax= sns.barplot(x='hour',\n",
    "            y='m_order_eta',\n",
    "            data=avg_eta)\n",
    "\n",
    "ax.bar_label(container=ax.containers[0])\n",
    "\n",
    "plt.title('Average ETA per hour')\n",
    "plt.ylabel('Average arrival time')\n",
    "plt.show()"
   ]
  },
  {
   "cell_type": "markdown",
   "metadata": {},
   "source": [
    "**The average waiting time for clients increases, the number of failed orders also increases.\n",
    "In comparison with the previous graph illustrating \"cancelled orders vs order_hour,\" the highest count of cancellations is occured at 8:00. During this time, clients likely experienced extended waiting periods for drivers.**"
   ]
  }
 ],
 "metadata": {
  "kernelspec": {
   "display_name": "Python 3",
   "language": "python",
   "name": "python3"
  },
  "language_info": {
   "codemirror_mode": {
    "name": "ipython",
    "version": 3
   },
   "file_extension": ".py",
   "mimetype": "text/x-python",
   "name": "python",
   "nbconvert_exporter": "python",
   "pygments_lexer": "ipython3",
   "version": "3.8.5"
  }
 },
 "nbformat": 4,
 "nbformat_minor": 4
}
